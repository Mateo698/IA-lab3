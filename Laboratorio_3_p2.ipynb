{
 "cells": [
  {
   "cell_type": "markdown",
   "id": "7bcf2dd9",
   "metadata": {},
   "source": [
    "# Práctica 3 (Parte 2): Regresión\n",
    "\n",
    "+ __Estudiante 1:__\n",
    "+ __Estudiante 2:__"
   ]
  },
  {
   "cell_type": "markdown",
   "id": "166a763b",
   "metadata": {},
   "source": [
    "## **0. Importar las librerías**"
   ]
  },
  {
   "cell_type": "code",
   "execution_count": 2,
   "id": "479ff4d2",
   "metadata": {},
   "outputs": [],
   "source": [
    "import pandas as pd\n",
    "import numpy as np\n",
    "import matplotlib.pyplot as plt\n",
    "import seaborn as sns\n",
    "\n",
    "sns.set_theme(style=\"whitegrid\")"
   ]
  },
  {
   "cell_type": "markdown",
   "id": "efcbbc07",
   "metadata": {},
   "source": [
    "## **1. Cargar un conjunto de datos tabulares.**\n",
    "\n",
    "### Concrete_Data_Yeh (Concrete_Data_Yeh.csv)\n",
    "\n",
    "https://www.kaggle.com/datasets/tanliu/concrete-data-yeh"
   ]
  },
  {
   "cell_type": "markdown",
   "id": "8159ac90",
   "metadata": {},
   "source": [
    "### Ejercicio.\n",
    "\n",
    "Carque el conjunto de datos Concrete_Data_Yeh.csv\n",
    "\n",
    "Indique breve y claramente en que consiste este dataset."
   ]
  },
  {
   "cell_type": "markdown",
   "id": "7fd3587c",
   "metadata": {},
   "source": [
    "### Acceso a archivos en disco local"
   ]
  },
  {
   "cell_type": "code",
   "execution_count": 3,
   "id": "98b07eff",
   "metadata": {},
   "outputs": [],
   "source": [
    "df = pd.read_csv('../Datasets/Concrete_Data_Yeh.csv')"
   ]
  },
  {
   "cell_type": "markdown",
   "id": "9f51374d",
   "metadata": {},
   "source": [
    "## **2. Análisis Exploratorio de los Datos - Limpieza - Preparación**"
   ]
  },
  {
   "cell_type": "markdown",
   "id": "8d472408",
   "metadata": {},
   "source": [
    "### Ejercicio.\n",
    "\n",
    "Determine la cantidad de observaciones y atributos e identifique la variable Target."
   ]
  },
  {
   "cell_type": "markdown",
   "id": "00f7a5c9",
   "metadata": {},
   "source": [
    "### Ejercicio.\n",
    "\n",
    "Determine los tipos de datos de los atributos e identifique si hay problemas con los tipos de datos o con los nombres de los atributos. En caso de existir implemente una estrategia para tratarlos."
   ]
  },
  {
   "cell_type": "markdown",
   "id": "a0647d67",
   "metadata": {},
   "source": [
    "### Ejercicio.\n",
    "\n",
    "Previsualice el contenido del dataframe"
   ]
  },
  {
   "cell_type": "markdown",
   "id": "26a8cf5c",
   "metadata": {},
   "source": [
    "### Ejercicio.\n",
    "\n",
    "Lleve a cabo un análisis univariado del dataset y consigne sus observaciones."
   ]
  },
  {
   "cell_type": "markdown",
   "id": "dbcfb9f9",
   "metadata": {},
   "source": [
    "### Ejercicio.\n",
    "\n",
    "Determine la distribución de la variable Target. Consigne sus observaciones."
   ]
  },
  {
   "cell_type": "markdown",
   "id": "cbabb608",
   "metadata": {},
   "source": [
    "### Ejercicio.\n",
    "\n",
    "Genere al menos 3 histogramas y consigne sus observaciones."
   ]
  },
  {
   "cell_type": "markdown",
   "id": "cdef118e",
   "metadata": {},
   "source": [
    "### Ejercicio.\n",
    "\n",
    "Realice el análisis bivariado del dataset y consigne sus observaciones."
   ]
  },
  {
   "cell_type": "markdown",
   "id": "2b0b60a2",
   "metadata": {},
   "source": [
    "### Ejercicio.\n",
    "\n",
    "Indique la correlación que tienen los atributos con la variable Target y organícelos de mayor a menor. Tenga en cuanta hacer el procesamiento adecuado de los atributos que no sean numéricos."
   ]
  },
  {
   "cell_type": "markdown",
   "id": "3ee37afd",
   "metadata": {},
   "source": [
    "### Ejercicio.\n",
    "\n",
    "Identifique si hay datos repetidos y datos nulos. En caso de existir implemente una estrategia para tratarlos."
   ]
  },
  {
   "cell_type": "markdown",
   "id": "b5464563",
   "metadata": {},
   "source": [
    "### Ejercicio.\n",
    "\n",
    "Identifique si hay outliers. En caso de existir implemente una estrategia para tratarlos."
   ]
  },
  {
   "cell_type": "markdown",
   "id": "d7aa9f1c",
   "metadata": {},
   "source": [
    "### Ejercicio.\n",
    "\n",
    "Depués de haber hecho la limpieza básica, indique la correlación que tienen los atributos con la variable Target y organícelos de mayor a menor. Tenga en cuanta hacer el procesamiento adecuado de los atributos que no sean numéricos."
   ]
  },
  {
   "cell_type": "markdown",
   "id": "fb053022",
   "metadata": {},
   "source": [
    "# 3. Modelo"
   ]
  },
  {
   "cell_type": "markdown",
   "id": "80c9f7eb",
   "metadata": {},
   "source": [
    "### Ejercicio.\n",
    "\n",
    "Seleccione el conjunto de atributos que va a usar para entrenar el primer modelo de regresión. Indique claramente por qué escogió esos atributos."
   ]
  },
  {
   "cell_type": "markdown",
   "id": "cd9859ca",
   "metadata": {},
   "source": [
    "### Ejercicio.\n",
    "\n",
    "Construya dos modelos de regresión: uno paramétrico (regresión lineal múltiple) y otro no paramétrico."
   ]
  },
  {
   "cell_type": "markdown",
   "id": "6359e686",
   "metadata": {},
   "source": [
    "### Ejercicio.\n",
    "\n",
    "Entrene y evalúe el desempeño de los modelos usando:\n",
    "\n",
    "- R^2\n",
    "- MSE\n",
    "- RMSE\n",
    "\n",
    "Consigne sus observaciones."
   ]
  },
  {
   "cell_type": "markdown",
   "id": "b3d3a94f",
   "metadata": {},
   "source": [
    "### Ejercicio.\n",
    "\n",
    "Compare el desempeño de los dos modelos y consigne sus observaciones."
   ]
  },
  {
   "cell_type": "markdown",
   "id": "24b7b063",
   "metadata": {},
   "source": [
    "### Ejercicio.\n",
    "\n",
    "Utilice Cross-Validation para evaluar la calidad de los modelos. Consigne sus observaciones."
   ]
  },
  {
   "cell_type": "markdown",
   "id": "fa64f788",
   "metadata": {},
   "source": [
    "### Ejercicio.\n",
    "\n",
    "Modifique los modelos de tal manera que el R^2 se acerque lo más posible a 0.90. Recuerde que puede cambiar de atributos o los hiperparámetros de los modelos.\n",
    "\n",
    "Para el mejor modelo encontrado, ¿cuál es el valor del RMSE?\n",
    "\n",
    "Consigne sus observaciones."
   ]
  },
  {
   "cell_type": "code",
   "execution_count": null,
   "id": "d56b4887",
   "metadata": {},
   "outputs": [],
   "source": []
  }
 ],
 "metadata": {
  "kernelspec": {
   "display_name": "Python 3 (ipykernel)",
   "language": "python",
   "name": "python3"
  },
  "language_info": {
   "codemirror_mode": {
    "name": "ipython",
    "version": 3
   },
   "file_extension": ".py",
   "mimetype": "text/x-python",
   "name": "python",
   "nbconvert_exporter": "python",
   "pygments_lexer": "ipython3",
   "version": "3.9.7"
  }
 },
 "nbformat": 4,
 "nbformat_minor": 5
}
